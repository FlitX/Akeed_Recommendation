{
 "cells": [
  {
   "cell_type": "code",
   "execution_count": null,
   "metadata": {},
   "outputs": [],
   "source": [
    "from google.colab import drive\n",
    "drive.mount('/content/drive')"
   ]
  },
  {
   "cell_type": "code",
   "execution_count": null,
   "metadata": {},
   "outputs": [],
   "source": [
    "import numpy as np\n",
    "import pandas as pd\n",
    "import datetime\n",
    "import random\n",
    "import collections\n",
    "import itertools\n",
    "\n",
    "import seaborn\n",
    "import matplotlib.pyplot as plt\n",
    "\n",
    "from sklearn.ensemble import *\n",
    "from sklearn.linear_model import *\n",
    "from sklearn.svm import *\n",
    "from sklearn.kernel_ridge import *\n",
    "from sklearn.neighbors import\n",
    "from sklearn.tree import \n",
    "\n",
    "from sklearn.preprocessing import *\n",
    "from sklearn.model_selection import *\n",
    "from sklearn.metrics import *\n",
    "from sklearn.pipeline import *\n",
    "from sklearn.decomposition import *\n",
    "from sklearn.impute import\n",
    "\n",
    "from imblearn.pipeline import \n",
    "from imblearn.over_sampling import \n",
    "from imblearn.under_sampling import\n",
    "from imblearn.metrics import\n",
    "\n",
    "from mlxtend.classifier import\n",
    "import lightgbm as lgb\n",
    "from lgb import \n",
    "from xgboost import \n",
    "\n",
    "import scipy\n",
    "from scipy.stats import \n",
    "from scipy.special import\n",
    "\n",
    "\n",
    "pd.set_options()\n",
    "import warnings\n",
    "warnings.filterwarnings(action='ignore')"
   ]
  },
  {
   "cell_type": "code",
   "execution_count": null,
   "metadata": {},
   "outputs": [],
   "source": [
    "train = pd.read_csv('')\n",
    "test = pd.read_csv('')"
   ]
  },
  {
   "cell_type": "code",
   "execution_count": null,
   "metadata": {},
   "outputs": [],
   "source": [
    "#find numeric features\n",
    "numeric_dtypes = ['int16', 'int32', 'int64', 'float16', 'float32', 'float64']\n",
    "numeric = []\n",
    "for i in train.columns:\n",
    "    if train[i].dtype in numeric_dtypes:\n",
    "        numeric.append(i)\n",
    "        \n",
    "fig, axs = plt.subplots(ncols=2, nrows=0, figsize=(12, 120))\n",
    "plt.subplots_adjust(right=2)\n",
    "plt.subplots_adjust(top=2)\n",
    "sns.color_palette('husl', 8)\n",
    "for i, feature in enumerate(list(train[numeric]), i):\n",
    "    plt.subplot(len(list(numeric)), 3, i)\n",
    "    sns.scatterplot(x=feature, y=train['target'], hue='target', palette='Blues', data=train)\n",
    "    plt.xlabel('{}'.format(feature), size=15, labelpad=12.5)\n",
    "    plt.ylabel('target', size=15, labelpad=12.5)\n",
    "    \n",
    "    for j in range(2):\n",
    "        plt.tick_params(axis='x', labelsize=12)\n",
    "        plt.tick_params(axis='y', labelsize=12)\n",
    "        \n",
    "    plt.legend(loc='best', prop={'size': 10})\n",
    "    \n",
    "plt.show()"
   ]
  },
  {
   "cell_type": "code",
   "execution_count": null,
   "metadata": {},
   "outputs": [],
   "source": [
    "corr = train.corr()\n",
    "plt.subplots(figsize=(15, 12))\n",
    "sns.heatmap(corr, vmax=0.9, cmap='Blues', square=True)"
   ]
  },
  {
   "cell_type": "markdown",
   "metadata": {},
   "source": [
    "#Let's plot how our targets relates to some of the features in the dataset"
   ]
  },
  {
   "cell_type": "code",
   "execution_count": null,
   "metadata": {},
   "outputs": [],
   "source": [
    "data =pd.concat([train['target'], train['dob']], axis=1)\n",
    "f, ax=plt.subplots(figsize=(8, 6))\n",
    "fig = sns.boxplot(x=train['gender'], y=train['target'], data=data)\n",
    "fig.axis(ymin=0, ymax=1);"
   ]
  },
  {
   "cell_type": "code",
   "execution_count": null,
   "metadata": {},
   "outputs": [],
   "source": []
  },
  {
   "cell_type": "code",
   "execution_count": null,
   "metadata": {},
   "outputs": [],
   "source": []
  },
  {
   "cell_type": "code",
   "execution_count": null,
   "metadata": {},
   "outputs": [],
   "source": []
  },
  {
   "cell_type": "code",
   "execution_count": null,
   "metadata": {},
   "outputs": [],
   "source": []
  },
  {
   "cell_type": "code",
   "execution_count": null,
   "metadata": {},
   "outputs": [],
   "source": []
  },
  {
   "cell_type": "code",
   "execution_count": null,
   "metadata": {},
   "outputs": [],
   "source": []
  },
  {
   "cell_type": "code",
   "execution_count": null,
   "metadata": {},
   "outputs": [],
   "source": []
  },
  {
   "cell_type": "code",
   "execution_count": null,
   "metadata": {},
   "outputs": [],
   "source": []
  },
  {
   "cell_type": "code",
   "execution_count": null,
   "metadata": {},
   "outputs": [],
   "source": [
    "#split features and labels\n",
    "train_labels = train['targets'].reset_index(drop=True)\n",
    "train_features  train.drop(columns=['target'], axis=1)\n",
    "test_features = test\n",
    "\n",
    "#combine train and test features\n",
    "all_features = pd.concat([train_features, test_features]), reset_index(drop=True)\n",
    "all_features.shape"
   ]
  },
  {
   "cell_type": "markdown",
   "metadata": {},
   "source": [
    "handle columns(dob, gender, tags etc)"
   ]
  },
  {
   "cell_type": "code",
   "execution_count": null,
   "metadata": {},
   "outputs": [],
   "source": [
    "all_features['gender'] = all_features['gender'].replace(['Male', 'male', 'Male ','Male  ', '  ', '?????'], 'Male')\n",
    "all_features['gender'] = all_features['gender'].replace(['Female', 'Female ', 'Female  ', 'Female   ', 'Female    '], 'Female')\n",
    "\n",
    "all_features['primary_tags'] = all_features['primary_tags'].fillna('[]')\n",
    "all_features['primary_tags'] = all_features['primary_tags'].apply(literal_eval)\n",
    "all_features['primary_tags'] = all_features['primary_tags'].str.get('primary_tags')\n",
    "\n",
    "\n",
    "all_features['vendor_tag'] = all_features['vendor_tag'].fillna('[]')\n",
    "all_features['vendor_tag_name'] = all_features['vendor_tag_name'].fillna('[]')\n",
    "\n",
    "def to_list(string):\n",
    "    ls = list(string.split(','))\n",
    "    return ls\n",
    "\n",
    "all_features['vendor_tag'] = all_features['vendor_tag'].apply(to_list)\n",
    "all_features['vendor_tag_name'] = all_features['vendor_tag_name'].apply(to_list)"
   ]
  },
  {
   "cell_type": "markdown",
   "metadata": {},
   "source": [
    "missing values"
   ]
  },
  {
   "cell_type": "code",
   "execution_count": null,
   "metadata": {},
   "outputs": [],
   "source": [
    "# determine the threshold for missing values\n",
    "def percent_missing(df):\n",
    "    data = pd.DataFrame(df)\n",
    "    df_cols = list(pd.DataFrame(data))\n",
    "    dict_x = {}\n",
    "    for i in range(0, len(df_cols)):\n",
    "        dict_x.update({df_cols[i]: round(data[df_cols[i]].isnull().mean()*100,2)})\n",
    "    \n",
    "    return dict_x\n",
    "\n",
    "missing = percent_missing(all_features)\n",
    "df_miss = sorted(missing.items(), key=lambda x: x[1], reverse=True)\n",
    "print('Percent of missing data')\n",
    "df_miss[0:100]"
   ]
  },
  {
   "cell_type": "code",
   "execution_count": null,
   "metadata": {},
   "outputs": [],
   "source": [
    "# Visualize missing values\n",
    "sns.set_style(\"white\")\n",
    "f, ax = plt.subplots(figsize=(8, 7))\n",
    "sns.set_color_codes(palette='deep')\n",
    "missing = round(train.isnull().mean()*100,2)\n",
    "missing = missing[missing > 0]\n",
    "missing.sort_values(inplace=True)\n",
    "missing.plot.bar(color=\"b\")\n",
    "# Tweak the visual presentation\n",
    "ax.xaxis.grid(False)\n",
    "ax.set(ylabel=\"Percent of missing values\")\n",
    "ax.set(xlabel=\"Features\")\n",
    "ax.set(title=\"Percent missing data by feature\")\n",
    "sns.despine(trim=True, left=True)"
   ]
  },
  {
   "cell_type": "code",
   "execution_count": null,
   "metadata": {},
   "outputs": [],
   "source": [
    "# Some of the non-numeric predictors are stored as numbers; convert them into strings \n",
    "all_features['status_x'] = all_features['status_x'].apply(str)\n",
    "all_features['verified_x'] = all_features['verified_x'].astype(str)\n"
   ]
  },
  {
   "cell_type": "code",
   "execution_count": null,
   "metadata": {},
   "outputs": [],
   "source": []
  },
  {
   "cell_type": "code",
   "execution_count": null,
   "metadata": {},
   "outputs": [],
   "source": [
    "#fixed skewed features\n",
    "numeric_dtypes = ['int16', 'int32', 'int64', 'float16', 'float32', 'float64']\n",
    "numeric = []\n",
    "for i in all_features.columns:\n",
    "    if all_features[i].dtype in numeric_dtypes:\n",
    "        numeric.append(i)"
   ]
  },
  {
   "cell_type": "code",
   "execution_count": null,
   "metadata": {},
   "outputs": [],
   "source": [
    "# Create box plots for all numeric features\n",
    "sns.set_style(\"white\")\n",
    "f, ax = plt.subplots(figsize=(8, 7))\n",
    "ax.set_xscale(\"log\")\n",
    "ax = sns.boxplot(data=all_features[numeric] , orient=\"h\", palette=\"Set1\")\n",
    "ax.xaxis.grid(False)\n",
    "ax.set(ylabel=\"Feature names\")\n",
    "ax.set(xlabel=\"Numeric values\")\n",
    "ax.set(title=\"Numeric Distribution of Features\")\n",
    "sns.despine(trim=True, left=True)"
   ]
  },
  {
   "cell_type": "code",
   "execution_count": null,
   "metadata": {},
   "outputs": [],
   "source": [
    "# Find skewed numerical features\n",
    "skew_features = all_features[numeric].apply(lambda x: skew(x)).sort_values(ascending=False)\n",
    "\n",
    "high_skew = skew_features[skew_features > 0.5]\n",
    "skew_index = high_skew.index\n",
    "\n",
    "print(\"There are {} numerical features with Skew > 0.5 :\".format(high_skew.shape[0]))\n",
    "skewness = pd.DataFrame({'Skew' :high_skew})\n",
    "skew_features.head(10)"
   ]
  },
  {
   "cell_type": "code",
   "execution_count": null,
   "metadata": {},
   "outputs": [],
   "source": [
    "# Normalize skewed features\n",
    "for i in skew_index:\n",
    "    all_features[i] = boxcox1p(all_features[i], boxcox_normmax(all_features[i] + 1))"
   ]
  },
  {
   "cell_type": "code",
   "execution_count": null,
   "metadata": {},
   "outputs": [],
   "source": [
    "# Let's make sure we handled all the skewed values\n",
    "sns.set_style(\"white\")\n",
    "f, ax = plt.subplots(figsize=(8, 7))\n",
    "ax.set_xscale(\"log\")\n",
    "ax = sns.boxplot(data=all_features[skew_index] , orient=\"h\", palette=\"Set1\")\n",
    "ax.xaxis.grid(False)\n",
    "ax.set(ylabel=\"Feature names\")\n",
    "ax.set(xlabel=\"Numeric values\")\n",
    "ax.set(title=\"Numeric Distribution of Features\")\n",
    "sns.despine(trim=True, left=True)"
   ]
  },
  {
   "cell_type": "code",
   "execution_count": null,
   "metadata": {},
   "outputs": [],
   "source": [
    "create new features"
   ]
  },
  {
   "cell_type": "code",
   "execution_count": null,
   "metadata": {},
   "outputs": [],
   "source": [
    "#feature transformation\n",
    "def logs(res, ls):\n",
    "    m = res.shape[1]\n",
    "    for l in ls:\n",
    "        res = res.assign(newcol=pd.Series(np.log(1.01+res[l])).values)   \n",
    "        res.columns.values[m] = l + '_log'\n",
    "        m += 1\n",
    "    return res\n",
    "\n",
    "log_features = [num_columns]\n",
    "\n",
    "all_features = logs(all_features, log_features)"
   ]
  },
  {
   "cell_type": "code",
   "execution_count": null,
   "metadata": {},
   "outputs": [],
   "source": [
    "def squares(res, ls):\n",
    "    m = res.shape[1]\n",
    "    for l in ls:\n",
    "        res = res.assign(newcol=pd.Series(res[l]*res[l]).values)   \n",
    "        res.columns.values[m] = l + '_sq'\n",
    "        m += 1\n",
    "    return res \n",
    "\n",
    "squared_features = [num_columns]\n",
    "all_features = squares(all_features, squared_features)"
   ]
  },
  {
   "cell_type": "code",
   "execution_count": null,
   "metadata": {},
   "outputs": [],
   "source": [
    "#encode categorical features"
   ]
  },
  {
   "cell_type": "code",
   "execution_count": null,
   "metadata": {},
   "outputs": [],
   "source": [
    "#recreate training and test sets\n",
    "X = all_features.iloc[:len(train_labels), :]\n",
    "X_test = all_features.iloc[len(train_labels):, :]\n",
    "X.shape, train_labels.shape, X_test.shape"
   ]
  }
 ],
 "metadata": {
  "kernelspec": {
   "display_name": "Python 3",
   "language": "python",
   "name": "python3"
  },
  "language_info": {
   "codemirror_mode": {
    "name": "ipython",
    "version": 3
   },
   "file_extension": ".py",
   "mimetype": "text/x-python",
   "name": "python",
   "nbconvert_exporter": "python",
   "pygments_lexer": "ipython3",
   "version": "3.7.3"
  }
 },
 "nbformat": 4,
 "nbformat_minor": 2
}
