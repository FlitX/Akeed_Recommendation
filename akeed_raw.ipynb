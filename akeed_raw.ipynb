{
 "cells": [
  {
   "cell_type": "code",
   "execution_count": 1,
   "metadata": {},
   "outputs": [],
   "source": [
    "import numpy as np\n",
    "import pandas as pd\n",
    "import scipy"
   ]
  },
  {
   "cell_type": "code",
   "execution_count": 2,
   "metadata": {},
   "outputs": [],
   "source": [
    "train_loc = pd.read_csv('/home/felix/Downloads/train_locations.csv')\n",
    "train_cus = pd.read_csv('/home/felix/Downloads/train_customers.csv')"
   ]
  },
  {
   "cell_type": "code",
   "execution_count": 4,
   "metadata": {},
   "outputs": [
    {
     "data": {
      "text/html": [
       "<div>\n",
       "<style scoped>\n",
       "    .dataframe tbody tr th:only-of-type {\n",
       "        vertical-align: middle;\n",
       "    }\n",
       "\n",
       "    .dataframe tbody tr th {\n",
       "        vertical-align: top;\n",
       "    }\n",
       "\n",
       "    .dataframe thead th {\n",
       "        text-align: right;\n",
       "    }\n",
       "</style>\n",
       "<table border=\"1\" class=\"dataframe\">\n",
       "  <thead>\n",
       "    <tr style=\"text-align: right;\">\n",
       "      <th></th>\n",
       "      <th>customer_id</th>\n",
       "      <th>location_number</th>\n",
       "      <th>location_type</th>\n",
       "      <th>latitude</th>\n",
       "      <th>longitude</th>\n",
       "    </tr>\n",
       "  </thead>\n",
       "  <tbody>\n",
       "    <tr>\n",
       "      <th>0</th>\n",
       "      <td>02SFNJH</td>\n",
       "      <td>0</td>\n",
       "      <td>NaN</td>\n",
       "      <td>1.682392</td>\n",
       "      <td>-78.789737</td>\n",
       "    </tr>\n",
       "    <tr>\n",
       "      <th>1</th>\n",
       "      <td>02SFNJH</td>\n",
       "      <td>1</td>\n",
       "      <td>NaN</td>\n",
       "      <td>1.679137</td>\n",
       "      <td>0.766823</td>\n",
       "    </tr>\n",
       "    <tr>\n",
       "      <th>2</th>\n",
       "      <td>02SFNJH</td>\n",
       "      <td>2</td>\n",
       "      <td>NaN</td>\n",
       "      <td>-0.498648</td>\n",
       "      <td>0.661241</td>\n",
       "    </tr>\n",
       "    <tr>\n",
       "      <th>3</th>\n",
       "      <td>RU43CXC</td>\n",
       "      <td>0</td>\n",
       "      <td>Home</td>\n",
       "      <td>0.100853</td>\n",
       "      <td>0.438165</td>\n",
       "    </tr>\n",
       "    <tr>\n",
       "      <th>4</th>\n",
       "      <td>BDFBPRD</td>\n",
       "      <td>0</td>\n",
       "      <td>NaN</td>\n",
       "      <td>2.523125</td>\n",
       "      <td>0.733464</td>\n",
       "    </tr>\n",
       "  </tbody>\n",
       "</table>\n",
       "</div>"
      ],
      "text/plain": [
       "  customer_id  location_number location_type  latitude  longitude\n",
       "0     02SFNJH                0           NaN  1.682392 -78.789737\n",
       "1     02SFNJH                1           NaN  1.679137   0.766823\n",
       "2     02SFNJH                2           NaN -0.498648   0.661241\n",
       "3     RU43CXC                0          Home  0.100853   0.438165\n",
       "4     BDFBPRD                0           NaN  2.523125   0.733464"
      ]
     },
     "execution_count": 4,
     "metadata": {},
     "output_type": "execute_result"
    }
   ],
   "source": [
    "train_loc.head()"
   ]
  },
  {
   "cell_type": "code",
   "execution_count": 6,
   "metadata": {},
   "outputs": [
    {
     "data": {
      "text/plain": [
       "(59503, 5)"
      ]
     },
     "execution_count": 6,
     "metadata": {},
     "output_type": "execute_result"
    }
   ],
   "source": [
    "train_loc.shape"
   ]
  },
  {
   "cell_type": "code",
   "execution_count": 5,
   "metadata": {},
   "outputs": [
    {
     "data": {
      "text/plain": [
       "4Y0K8NQ    30\n",
       "NETYQ1C    26\n",
       "5EP9F62    20\n",
       "YYKZN0F    19\n",
       "4UZKXW2    19\n",
       "YQC2R6H    17\n",
       "H0KPCSI    16\n",
       "9VJZUWB    16\n",
       "6FWP16A    15\n",
       "V2A9RXW    15\n",
       "J1RDTU4    15\n",
       "JOZL0GS    15\n",
       "ZGFSYCZ    15\n",
       "DCUPX4B    13\n",
       "X58BXH0    13\n",
       "UO5X10D    12\n",
       "2WGF9T2    12\n",
       "MVEEI4Z    12\n",
       "4AU73XO    12\n",
       "REIAABC    12\n",
       "YKZP6VQ    12\n",
       "2TWWD7O    11\n",
       "1Z2P3S8    11\n",
       "ZJV1ZAI    11\n",
       "5CSKHZ9    11\n",
       "HJFTTGW    11\n",
       "WDNFLP6    11\n",
       "SCB2QV8    11\n",
       "J9XJPG4    11\n",
       "JNVC68C    11\n",
       "           ..\n",
       "IRXWD1Q     1\n",
       "EUES7YH     1\n",
       "6E27JP6     1\n",
       "CTGKNUM     1\n",
       "6ECRN93     1\n",
       "S9MKEOL     1\n",
       "JCO94C4     1\n",
       "YSW87AO     1\n",
       "3SSJVDR     1\n",
       "RAJWAHK     1\n",
       "X1ZB4M3     1\n",
       "R86FLOH     1\n",
       "LVU8I9E     1\n",
       "5KKG2EF     1\n",
       "CRISEY8     1\n",
       "UWFBB4I     1\n",
       "D0HUF1V     1\n",
       "KILP3VE     1\n",
       "1GP2RI8     1\n",
       "9JJ8SUC     1\n",
       "P4K4JCX     1\n",
       "1HA23F4     1\n",
       "ZCHR8RT     1\n",
       "U66H61H     1\n",
       "Z0M4U27     1\n",
       "Z6JQ8F7     1\n",
       "UCBRJWP     1\n",
       "414EKPJ     1\n",
       "5D5U4SN     1\n",
       "CNQSTMD     1\n",
       "Name: customer_id, Length: 35400, dtype: int64"
      ]
     },
     "execution_count": 5,
     "metadata": {},
     "output_type": "execute_result"
    }
   ],
   "source": [
    "train_loc['customer_id'].value_counts()"
   ]
  },
  {
   "cell_type": "code",
   "execution_count": 7,
   "metadata": {},
   "outputs": [
    {
     "data": {
      "text/plain": [
       "0     35400\n",
       "1     13798\n",
       "2      5488\n",
       "3      2519\n",
       "4      1153\n",
       "5       504\n",
       "6       246\n",
       "7       128\n",
       "8        76\n",
       "9        52\n",
       "10       34\n",
       "11       21\n",
       "12       15\n",
       "13       13\n",
       "14       13\n",
       "15        8\n",
       "16        6\n",
       "17        5\n",
       "18        5\n",
       "19        3\n",
       "20        2\n",
       "21        2\n",
       "22        2\n",
       "23        2\n",
       "24        2\n",
       "25        2\n",
       "28        1\n",
       "26        1\n",
       "27        1\n",
       "29        1\n",
       "Name: location_number, dtype: int64"
      ]
     },
     "execution_count": 7,
     "metadata": {},
     "output_type": "execute_result"
    }
   ],
   "source": [
    "train_loc['location_number'].value_counts()"
   ]
  },
  {
   "cell_type": "code",
   "execution_count": 8,
   "metadata": {},
   "outputs": [
    {
     "data": {
      "text/plain": [
       "Home     19703\n",
       "Work      6441\n",
       "Other     6150\n",
       "Name: location_type, dtype: int64"
      ]
     },
     "execution_count": 8,
     "metadata": {},
     "output_type": "execute_result"
    }
   ],
   "source": [
    "train_loc['location_type'].value_counts()"
   ]
  },
  {
   "cell_type": "code",
   "execution_count": 9,
   "metadata": {},
   "outputs": [
    {
     "name": "stdout",
     "output_type": "stream",
     "text": [
      "<class 'pandas.core.frame.DataFrame'>\n",
      "RangeIndex: 59503 entries, 0 to 59502\n",
      "Data columns (total 5 columns):\n",
      "customer_id        59503 non-null object\n",
      "location_number    59503 non-null int64\n",
      "location_type      32294 non-null object\n",
      "latitude           59497 non-null float64\n",
      "longitude          59497 non-null float64\n",
      "dtypes: float64(2), int64(1), object(2)\n",
      "memory usage: 2.3+ MB\n"
     ]
    }
   ],
   "source": [
    "train_loc.info()"
   ]
  },
  {
   "cell_type": "code",
   "execution_count": 22,
   "metadata": {},
   "outputs": [
    {
     "name": "stdout",
     "output_type": "stream",
     "text": [
      "Empty DataFrame\n",
      "Columns: [customer_id, location_number, location_type, latitude, longitude]\n",
      "Index: []\n"
     ]
    }
   ],
   "source": [
    "#check for duplicate item\n",
    "duplicatedtrain_loc = train_loc[train_loc.duplicated()]\n",
    "print(duplicatedtrain_loc)\n",
    "#remove duplicate items"
   ]
  },
  {
   "cell_type": "code",
   "execution_count": 10,
   "metadata": {},
   "outputs": [
    {
     "data": {
      "text/plain": [
       "(34674, 8)"
      ]
     },
     "execution_count": 10,
     "metadata": {},
     "output_type": "execute_result"
    }
   ],
   "source": [
    "train_cus.shape"
   ]
  },
  {
   "cell_type": "code",
   "execution_count": 11,
   "metadata": {},
   "outputs": [
    {
     "data": {
      "text/html": [
       "<div>\n",
       "<style scoped>\n",
       "    .dataframe tbody tr th:only-of-type {\n",
       "        vertical-align: middle;\n",
       "    }\n",
       "\n",
       "    .dataframe tbody tr th {\n",
       "        vertical-align: top;\n",
       "    }\n",
       "\n",
       "    .dataframe thead th {\n",
       "        text-align: right;\n",
       "    }\n",
       "</style>\n",
       "<table border=\"1\" class=\"dataframe\">\n",
       "  <thead>\n",
       "    <tr style=\"text-align: right;\">\n",
       "      <th></th>\n",
       "      <th>akeed_customer_id</th>\n",
       "      <th>gender</th>\n",
       "      <th>dob</th>\n",
       "      <th>status</th>\n",
       "      <th>verified</th>\n",
       "      <th>language</th>\n",
       "      <th>created_at</th>\n",
       "      <th>updated_at</th>\n",
       "    </tr>\n",
       "  </thead>\n",
       "  <tbody>\n",
       "    <tr>\n",
       "      <th>0</th>\n",
       "      <td>TCHWPBT</td>\n",
       "      <td>Male</td>\n",
       "      <td>NaN</td>\n",
       "      <td>1</td>\n",
       "      <td>1</td>\n",
       "      <td>EN</td>\n",
       "      <td>2018-02-07 19:16:23</td>\n",
       "      <td>2018-02-07 19:16:23</td>\n",
       "    </tr>\n",
       "    <tr>\n",
       "      <th>1</th>\n",
       "      <td>ZGFSYCZ</td>\n",
       "      <td>Male</td>\n",
       "      <td>NaN</td>\n",
       "      <td>1</td>\n",
       "      <td>1</td>\n",
       "      <td>EN</td>\n",
       "      <td>2018-02-09 12:04:42</td>\n",
       "      <td>2018-02-09 12:04:41</td>\n",
       "    </tr>\n",
       "    <tr>\n",
       "      <th>2</th>\n",
       "      <td>S2ALZFL</td>\n",
       "      <td>Male</td>\n",
       "      <td>NaN</td>\n",
       "      <td>0</td>\n",
       "      <td>1</td>\n",
       "      <td>EN</td>\n",
       "      <td>2018-03-14 18:31:43</td>\n",
       "      <td>2018-03-14 18:31:42</td>\n",
       "    </tr>\n",
       "    <tr>\n",
       "      <th>3</th>\n",
       "      <td>952DBJQ</td>\n",
       "      <td>Male</td>\n",
       "      <td>NaN</td>\n",
       "      <td>1</td>\n",
       "      <td>1</td>\n",
       "      <td>EN</td>\n",
       "      <td>2018-03-15 19:47:07</td>\n",
       "      <td>2018-03-15 19:47:07</td>\n",
       "    </tr>\n",
       "    <tr>\n",
       "      <th>4</th>\n",
       "      <td>1IX6FXS</td>\n",
       "      <td>Male</td>\n",
       "      <td>NaN</td>\n",
       "      <td>1</td>\n",
       "      <td>1</td>\n",
       "      <td>EN</td>\n",
       "      <td>2018-03-15 19:57:01</td>\n",
       "      <td>2018-03-15 19:57:01</td>\n",
       "    </tr>\n",
       "  </tbody>\n",
       "</table>\n",
       "</div>"
      ],
      "text/plain": [
       "  akeed_customer_id gender  dob  status  verified language  \\\n",
       "0           TCHWPBT   Male  NaN       1         1       EN   \n",
       "1           ZGFSYCZ   Male  NaN       1         1       EN   \n",
       "2           S2ALZFL   Male  NaN       0         1       EN   \n",
       "3           952DBJQ   Male  NaN       1         1       EN   \n",
       "4           1IX6FXS   Male  NaN       1         1       EN   \n",
       "\n",
       "            created_at           updated_at  \n",
       "0  2018-02-07 19:16:23  2018-02-07 19:16:23  \n",
       "1  2018-02-09 12:04:42  2018-02-09 12:04:41  \n",
       "2  2018-03-14 18:31:43  2018-03-14 18:31:42  \n",
       "3  2018-03-15 19:47:07  2018-03-15 19:47:07  \n",
       "4  2018-03-15 19:57:01  2018-03-15 19:57:01  "
      ]
     },
     "execution_count": 11,
     "metadata": {},
     "output_type": "execute_result"
    }
   ],
   "source": [
    "train_cus.head()"
   ]
  },
  {
   "cell_type": "code",
   "execution_count": 12,
   "metadata": {},
   "outputs": [
    {
     "data": {
      "text/plain": [
       "0FOCFVI    17\n",
       "H0GVNAK    16\n",
       "XFQVCSZ     9\n",
       "U0SUJYS     7\n",
       "QT5BMDP     7\n",
       "F30RUYT     7\n",
       "UES1IFF     6\n",
       "SKX8JZX     6\n",
       "NGNN39R     5\n",
       "D3JSDXT     5\n",
       "NXV2U06     5\n",
       "L8ABABT     5\n",
       "JNI5ALO     4\n",
       "3UC3NU9     4\n",
       "4EMI26T     4\n",
       "WFQZOHO     4\n",
       "6DJZ3DZ     4\n",
       "JY3XXPT     3\n",
       "99CH6NL     3\n",
       "XHXLORT     3\n",
       "NVEH79U     3\n",
       "F22EU83     3\n",
       "UZQX5WL     3\n",
       "NZH50BZ     3\n",
       "EPLRX8U     3\n",
       "MB89VR0     3\n",
       "6DK062U     3\n",
       "IM7ZTS8     3\n",
       "BS11M4N     3\n",
       "6ECRN93     3\n",
       "           ..\n",
       "518C5JS     1\n",
       "I4IXJJB     1\n",
       "8ALMNML     1\n",
       "OLX34VM     1\n",
       "AY8UIEO     1\n",
       "DLAVWDY     1\n",
       "D2OGR0S     1\n",
       "HXPARLE     1\n",
       "RE5355H     1\n",
       "UVGFPUV     1\n",
       "SF3G1G8     1\n",
       "YFXDF6L     1\n",
       "ST8TBDS     1\n",
       "2J75P4Q     1\n",
       "TKL8OGK     1\n",
       "KYYM6T7     1\n",
       "WCR9E8P     1\n",
       "8RJA4Q9     1\n",
       "S81NOL0     1\n",
       "RXJQ5K6     1\n",
       "ZFCQ1MO     1\n",
       "96FE57O     1\n",
       "Q2F8KAV     1\n",
       "GRR8LGC     1\n",
       "ZSIGRGL     1\n",
       "G7RH58Y     1\n",
       "06N72EV     1\n",
       "0V6H7VN     1\n",
       "K4PECXV     1\n",
       "3L83PER     1\n",
       "Name: akeed_customer_id, Length: 34523, dtype: int64"
      ]
     },
     "execution_count": 12,
     "metadata": {},
     "output_type": "execute_result"
    }
   ],
   "source": [
    "train_cus['akeed_customer_id'].value_counts()"
   ]
  },
  {
   "cell_type": "code",
   "execution_count": 14,
   "metadata": {},
   "outputs": [
    {
     "data": {
      "text/plain": [
       "Male          17815\n",
       "male           2914\n",
       "Female         1761\n",
       "Female           13\n",
       "Male              9\n",
       "Female            2\n",
       "Female            2\n",
       "?????             2\n",
       "                  1\n",
       "Female            1\n",
       "Name: gender, dtype: int64"
      ]
     },
     "execution_count": 14,
     "metadata": {},
     "output_type": "execute_result"
    }
   ],
   "source": [
    "train_cus['gender'].value_counts()"
   ]
  },
  {
   "cell_type": "code",
   "execution_count": 15,
   "metadata": {},
   "outputs": [
    {
     "data": {
      "text/plain": [
       "1970.0    255\n",
       "1999.0    161\n",
       "2000.0    158\n",
       "1998.0    149\n",
       "1996.0    140\n",
       "1993.0    139\n",
       "1997.0    131\n",
       "1994.0    126\n",
       "2001.0    123\n",
       "1995.0    121\n",
       "1990.0    120\n",
       "1989.0    117\n",
       "2019.0    116\n",
       "1991.0    116\n",
       "1992.0    101\n",
       "1988.0     91\n",
       "1987.0     81\n",
       "1985.0     80\n",
       "2020.0     69\n",
       "1986.0     67\n",
       "1983.0     51\n",
       "1984.0     50\n",
       "1980.0     48\n",
       "2002.0     46\n",
       "1982.0     39\n",
       "2003.0     37\n",
       "1981.0     36\n",
       "2004.0     34\n",
       "2005.0     31\n",
       "1979.0     28\n",
       "         ... \n",
       "1972.0     10\n",
       "1973.0      9\n",
       "1974.0      8\n",
       "1971.0      8\n",
       "1967.0      6\n",
       "2006.0      6\n",
       "2007.0      4\n",
       "1900.0      4\n",
       "1964.0      4\n",
       "1956.0      2\n",
       "2009.0      2\n",
       "1957.0      2\n",
       "2016.0      2\n",
       "2008.0      2\n",
       "2562.0      1\n",
       "1934.0      1\n",
       "1953.0      1\n",
       "1955.0      1\n",
       "1966.0      1\n",
       "1398.0      1\n",
       "1968.0      1\n",
       "676.0       1\n",
       "2531.0      1\n",
       "1888.0      1\n",
       "2012.0      1\n",
       "2013.0      1\n",
       "2014.0      1\n",
       "2015.0      1\n",
       "2017.0      1\n",
       "1.0         1\n",
       "Name: dob, Length: 65, dtype: int64"
      ]
     },
     "execution_count": 15,
     "metadata": {},
     "output_type": "execute_result"
    }
   ],
   "source": [
    "train_cus['dob'].value_counts()"
   ]
  },
  {
   "cell_type": "code",
   "execution_count": 16,
   "metadata": {},
   "outputs": [
    {
     "data": {
      "text/plain": [
       "1    34639\n",
       "0       35\n",
       "Name: status, dtype: int64"
      ]
     },
     "execution_count": 16,
     "metadata": {},
     "output_type": "execute_result"
    }
   ],
   "source": [
    "train_cus['status'].value_counts()"
   ]
  },
  {
   "cell_type": "code",
   "execution_count": 17,
   "metadata": {},
   "outputs": [
    {
     "data": {
      "text/plain": [
       "1    33167\n",
       "0     1507\n",
       "Name: verified, dtype: int64"
      ]
     },
     "execution_count": 17,
     "metadata": {},
     "output_type": "execute_result"
    }
   ],
   "source": [
    "train_cus['verified'].value_counts()"
   ]
  },
  {
   "cell_type": "code",
   "execution_count": 18,
   "metadata": {},
   "outputs": [
    {
     "data": {
      "text/plain": [
       "EN    21099\n",
       "Name: language, dtype: int64"
      ]
     },
     "execution_count": 18,
     "metadata": {},
     "output_type": "execute_result"
    }
   ],
   "source": [
    "train_cus['language'].value_counts()"
   ]
  },
  {
   "cell_type": "code",
   "execution_count": 24,
   "metadata": {},
   "outputs": [
    {
     "name": "stdout",
     "output_type": "stream",
     "text": [
      "      akeed_customer_id gender  dob  status  verified language  \\\n",
      "23684           JY3XXPT   male  NaN       1         0      NaN   \n",
      "23722           6DK062U   male  NaN       1         0      NaN   \n",
      "23789           H0GVNAK   male  NaN       1         0      NaN   \n",
      "23790           H0GVNAK   male  NaN       1         0      NaN   \n",
      "23791           H0GVNAK   male  NaN       1         0      NaN   \n",
      "23792           H0GVNAK   male  NaN       1         0      NaN   \n",
      "23793           H0GVNAK   male  NaN       1         0      NaN   \n",
      "23794           H0GVNAK   male  NaN       1         0      NaN   \n",
      "23795           H0GVNAK   male  NaN       1         0      NaN   \n",
      "23796           H0GVNAK   male  NaN       1         0      NaN   \n",
      "23797           H0GVNAK   male  NaN       1         0      NaN   \n",
      "23798           H0GVNAK   male  NaN       1         0      NaN   \n",
      "23799           H0GVNAK   male  NaN       1         0      NaN   \n",
      "23800           H0GVNAK   male  NaN       1         0      NaN   \n",
      "23801           H0GVNAK   male  NaN       1         0      NaN   \n",
      "23802           H0GVNAK   male  NaN       1         0      NaN   \n",
      "23807           U0SUJYS   male  NaN       1         0      NaN   \n",
      "23808           U0SUJYS   male  NaN       1         0      NaN   \n",
      "23809           U0SUJYS   male  NaN       1         0      NaN   \n",
      "23810           U0SUJYS   male  NaN       1         0      NaN   \n",
      "23811           U0SUJYS   male  NaN       1         0      NaN   \n",
      "23892           NVEH79U   male  NaN       1         0      NaN   \n",
      "23893           NVEH79U   male  NaN       1         0      NaN   \n",
      "23912           NGNN39R   male  NaN       1         0      NaN   \n",
      "23913           NGNN39R   male  NaN       1         0      NaN   \n",
      "23914           NGNN39R   male  NaN       1         0      NaN   \n",
      "23915           NGNN39R   male  NaN       1         0      NaN   \n",
      "23926           UZQX5WL   male  NaN       1         0      NaN   \n",
      "23960           JNI5ALO   male  NaN       1         0      NaN   \n",
      "23961           JNI5ALO   male  NaN       1         0      NaN   \n",
      "...                 ...    ...  ...     ...       ...      ...   \n",
      "24314           0FOCFVI   male  NaN       1         0      NaN   \n",
      "24315           0FOCFVI   male  NaN       1         0      NaN   \n",
      "24316           0FOCFVI   male  NaN       1         0      NaN   \n",
      "24317           0FOCFVI   male  NaN       1         0      NaN   \n",
      "24318           0FOCFVI   male  NaN       1         0      NaN   \n",
      "24322           0FOCFVI   male  NaN       1         0      NaN   \n",
      "24324           0FOCFVI   male  NaN       1         0      NaN   \n",
      "24325           0FOCFVI   male  NaN       1         0      NaN   \n",
      "24326           0FOCFVI   male  NaN       1         0      NaN   \n",
      "24327           0FOCFVI   male  NaN       1         0      NaN   \n",
      "24396           WFQZOHO   male  NaN       1         0      NaN   \n",
      "24397           WFQZOHO   male  NaN       1         0      NaN   \n",
      "24417           3UC3NU9   male  NaN       1         0      NaN   \n",
      "24418           3UC3NU9   male  NaN       1         0      NaN   \n",
      "24434           F30RUYT   male  NaN       1         0      NaN   \n",
      "24435           F30RUYT   male  NaN       1         0      NaN   \n",
      "24436           F30RUYT   male  NaN       1         0      NaN   \n",
      "24437           F30RUYT   male  NaN       1         0      NaN   \n",
      "24438           F30RUYT   male  NaN       1         0      NaN   \n",
      "24500           XHXLORT   male  NaN       1         0      NaN   \n",
      "24545           NZH50BZ   male  NaN       1         0      NaN   \n",
      "24566           XFQVCSZ   male  NaN       1         0      NaN   \n",
      "24567           XFQVCSZ   male  NaN       1         0      NaN   \n",
      "24568           XFQVCSZ   male  NaN       1         0      NaN   \n",
      "24569           XFQVCSZ   male  NaN       1         0      NaN   \n",
      "24570           XFQVCSZ   male  NaN       1         0      NaN   \n",
      "24571           XFQVCSZ   male  NaN       1         0      NaN   \n",
      "24572           XFQVCSZ   male  NaN       1         0      NaN   \n",
      "24625           IM7ZTS8   male  NaN       1         0      NaN   \n",
      "24633           BS11M4N   male  NaN       1         0      NaN   \n",
      "\n",
      "                created_at           updated_at  \n",
      "23684  2019-11-19 17:38:08  2019-11-19 17:38:08  \n",
      "23722  2019-11-19 20:08:17  2019-11-19 20:08:17  \n",
      "23789  2019-11-20 02:50:57  2019-11-20 02:50:57  \n",
      "23790  2019-11-20 02:51:00  2019-11-20 02:51:00  \n",
      "23791  2019-11-20 02:51:02  2019-11-20 02:51:02  \n",
      "23792  2019-11-20 02:51:04  2019-11-20 02:51:04  \n",
      "23793  2019-11-20 02:51:07  2019-11-20 02:51:07  \n",
      "23794  2019-11-20 02:51:09  2019-11-20 02:51:09  \n",
      "23795  2019-11-20 02:51:11  2019-11-20 02:51:11  \n",
      "23796  2019-11-20 02:51:13  2019-11-20 02:51:13  \n",
      "23797  2019-11-20 02:51:16  2019-11-20 02:51:16  \n",
      "23798  2019-11-20 02:51:18  2019-11-20 02:51:18  \n",
      "23799  2019-11-20 02:51:20  2019-11-20 02:51:20  \n",
      "23800  2019-11-20 02:51:22  2019-11-20 02:51:22  \n",
      "23801  2019-11-20 02:51:25  2019-11-20 02:51:25  \n",
      "23802  2019-11-20 02:51:27  2019-11-20 02:51:27  \n",
      "23807  2019-11-20 12:25:04  2019-11-20 12:25:04  \n",
      "23808  2019-11-20 12:25:16  2019-11-20 12:25:16  \n",
      "23809  2019-11-20 12:25:40  2019-11-20 12:25:40  \n",
      "23810  2019-11-20 12:27:40  2019-11-20 12:27:40  \n",
      "23811  2019-11-20 12:28:15  2019-11-20 12:28:15  \n",
      "23892  2019-11-21 20:58:55  2019-11-21 20:58:55  \n",
      "23893  2019-11-21 20:59:03  2019-11-21 20:59:03  \n",
      "23912  2019-11-21 22:18:38  2019-11-21 22:18:38  \n",
      "23913  2019-11-21 22:18:40  2019-11-21 22:18:40  \n",
      "23914  2019-11-21 22:18:43  2019-11-21 22:18:43  \n",
      "23915  2019-11-21 22:18:46  2019-11-21 22:18:46  \n",
      "23926  2019-11-21 23:16:42  2019-11-21 23:16:42  \n",
      "23960  2019-11-22 16:06:56  2019-11-22 16:06:56  \n",
      "23961  2019-11-22 16:07:54  2019-11-22 16:07:54  \n",
      "...                    ...                  ...  \n",
      "24314  2019-11-25 20:45:31  2019-11-25 20:45:31  \n",
      "24315  2019-11-25 20:45:37  2019-11-25 20:45:37  \n",
      "24316  2019-11-25 20:45:48  2019-11-25 20:45:48  \n",
      "24317  2019-11-25 20:45:54  2019-11-25 20:45:54  \n",
      "24318  2019-11-25 20:45:58  2019-11-25 20:45:58  \n",
      "24322  2019-11-25 21:57:31  2019-11-25 21:57:31  \n",
      "24324  2019-11-25 22:03:32  2019-11-25 22:03:32  \n",
      "24325  2019-11-25 22:03:59  2019-11-25 22:03:59  \n",
      "24326  2019-11-25 22:04:10  2019-11-25 22:04:10  \n",
      "24327  2019-11-25 22:04:20  2019-11-25 22:04:20  \n",
      "24396  2019-11-26 22:44:21  2019-11-26 22:44:21  \n",
      "24397  2019-11-26 22:46:54  2019-11-26 22:46:54  \n",
      "24417  2019-11-27 04:41:55  2019-11-27 04:41:55  \n",
      "24418  2019-11-27 04:42:04  2019-11-27 04:42:04  \n",
      "24434  2019-11-27 17:32:43  2019-11-27 17:32:43  \n",
      "24435  2019-11-27 17:32:59  2019-11-27 17:32:59  \n",
      "24436  2019-11-27 17:33:15  2019-11-27 17:33:15  \n",
      "24437  2019-11-27 17:33:35  2019-11-27 17:33:35  \n",
      "24438  2019-11-27 17:33:41  2019-11-27 17:33:41  \n",
      "24500  2019-11-28 21:46:27  2019-11-28 21:46:27  \n",
      "24545  2019-11-29 20:34:25  2019-11-29 20:34:25  \n",
      "24566  2019-11-30 12:32:58  2019-11-30 12:32:58  \n",
      "24567  2019-11-30 12:32:59  2019-11-30 12:32:59  \n",
      "24568  2019-11-30 12:33:01  2019-11-30 12:33:01  \n",
      "24569  2019-11-30 12:33:03  2019-11-30 12:33:03  \n",
      "24570  2019-11-30 12:33:04  2019-11-30 12:33:04  \n",
      "24571  2019-11-30 12:33:07  2019-11-30 12:33:07  \n",
      "24572  2019-11-30 12:33:08  2019-11-30 12:33:08  \n",
      "24625  2019-11-30 23:07:44  2019-11-30 23:07:44  \n",
      "24633  2019-11-30 23:52:02  2019-11-30 23:52:02  \n",
      "\n",
      "[99 rows x 8 columns]\n"
     ]
    }
   ],
   "source": [
    "#check for duplicate items\n",
    "duplitrain_cus = train_cus[train_cus.duplicated(['akeed_customer_id', 'gender', 'dob', 'status', 'verified', 'language'])]\n",
    "print(duplitrain_cus)\n",
    "#remove duplicate items\n",
    "train_"
   ]
  },
  {
   "cell_type": "code",
   "execution_count": null,
   "metadata": {},
   "outputs": [],
   "source": [
    " "
   ]
  },
  {
   "cell_type": "code",
   "execution_count": null,
   "metadata": {},
   "outputs": [],
   "source": []
  }
 ],
 "metadata": {
  "kernelspec": {
   "display_name": "Python 3",
   "language": "python",
   "name": "python3"
  },
  "language_info": {
   "codemirror_mode": {
    "name": "ipython",
    "version": 3
   },
   "file_extension": ".py",
   "mimetype": "text/x-python",
   "name": "python",
   "nbconvert_exporter": "python",
   "pygments_lexer": "ipython3",
   "version": "3.7.3"
  }
 },
 "nbformat": 4,
 "nbformat_minor": 2
}
