{
 "cells": [
  {
   "cell_type": "code",
   "execution_count": null,
   "metadata": {},
   "outputs": [],
   "source": [
    "#import essential libraries\n",
    "import numpy as np\n",
    "import scipy as sp\n",
    "import pandas as pd\n",
    "\n",
    "#import visualization libraries\n",
    "import matplotlib as mpl\n",
    "%matplotlib inline\n",
    "import matplotlib.pyplot as plt\n",
    "import seaborn as sns\n",
    "\n",
    "#import models\n",
    "from pandas.api.types import CategoricalDtype\n",
    "from ast import literal_eval\n",
    "\n",
    "#ignore warnings\n",
    "\n",
    "\n",
    "\n"
   ]
  },
  {
   "cell_type": "code",
   "execution_count": null,
   "metadata": {},
   "outputs": [],
   "source": [
    "#load datasets\n",
    "#train datasets\n",
    "train_loc = pd.read_csv('/home/felix/Downloads/train_locations.csv')\n",
    "train_cus = pd.read_csv('/home/felix/Downloads/train_customers.csv', parse_dates=['created_at', 'updated_at'])\n",
    "\n",
    "#test datasets\n",
    "test_loc = pd.read_csv('/home/felix/Downloads/test_locations.csv')\n",
    "test_cus = pd.read_csv('/home/felix/Downloads/test_customers.csv', parse_dates=['created_at', 'updated_at'])\n",
    "\n",
    "vendor = pd.read_csv('/home/felix/Downloads/vendors.csv', parse_dates=['created_at', 'updated_at'])\n",
    "order = pd.read_csv('/home/felix/Downloads/orders.csv')\n",
    "#submissions = pd.read_csv('/home/felix/Downloads/')"
   ]
  },
  {
   "cell_type": "code",
   "execution_count": null,
   "metadata": {},
   "outputs": [],
   "source": [
    "#drop unwanted columns and duplicates\n",
    "train_loc = train_loc.drop(columns=['latitude', 'longitude'])\n",
    "train_cus = train_cus.drop(columns=['language', 'dob', 'created_at', 'updated_at'])\n",
    "train_cus = train_cus.drop_duplicates()\n",
    "\n",
    "#rename columns\n",
    "train_cus = train_cus.rename({'akeed_customer_id':'CID'}, axis=1)\n",
    "train_loc = train_loc.rename({'customer_id': 'CID', 'location_number':'LOC_NUM'}, axis=1)\n",
    "\n",
    "#merge train_customer and train_location dataframes\n",
    "train = pd.merge(train_cus, train_loc, on='CID', how='left')\n",
    "\n",
    "train['gender'] = train['gender'].replace(['Male', 'male', 'Male ','Male  ', '  ', '?????'], 'Male')\n",
    "train['gender'] = train['gender'].replace(['Female', 'Female ', 'Female  ', 'Female   ', 'Female    '], 'Female')\n",
    "train['gender'] = train['gender'].fillna('Male')\n",
    "\n",
    "cat_type = CategoricalDtype(categories=[0, 1], ordered=True)\n",
    "train['status'] = train['status'].astype(cat_type)\n",
    "train['verified'] = train['verified'].astype(cat_type)\n",
    "train['LOC_NUM'] = train['LOC_NUM'].astype('category')\n",
    "train['location_type'] = train['location_type'].astype('category')\n",
    "train['gender'] = train['gender'].astype('category')"
   ]
  },
  {
   "cell_type": "code",
   "execution_count": null,
   "metadata": {},
   "outputs": [],
   "source": [
    "#drop unwanted columns and duplicates\n",
    "test_loc = test_loc.drop(columns=['latitude', 'longitude'])\n",
    "test_cus = test_cus.drop(columns=['language', 'dob', 'created_at', 'updated_at'])\n",
    "test_cus = test_cus.drop_duplicates()\n",
    "\n",
    "#rename columns\n",
    "test_cus = test_cus.rename({'akeed_customer_id':'CID'}, axis=1)\n",
    "test_loc = test_loc.rename({'customer_id': 'CID', 'location_number':'LOC_NUM'}, axis=1)\n",
    "\n",
    "#merge train_customer and train_location dataframes\n",
    "test = pd.merge(test_cus, test_loc, on='CID', how='left')\n",
    "\n",
    "test['gender'] = test['gender'].replace(['Male', 'male', 'Male ','Male  ', '  ', '?????'], 'Male')\n",
    "test['gender'] = test['gender'].replace(['Female', 'Female ', 'Female  ', 'Female   ', 'Female    '], 'Female')\n",
    "test['gender'] = test['gender'].fillna('Male')\n",
    "\n",
    "test['status'] = test['status'].astype(cat_type)\n",
    "test['verified'] = test['verified'].astype(cat_type)\n",
    "test['LOC_NUM'] = test['LOC_NUM'].astype('category')\n",
    "test['location_type'] = test['location_type'].astype('category')\n",
    "test['gender'] = test['gender'].astype('category')\n"
   ]
  },
  {
   "cell_type": "code",
   "execution_count": null,
   "metadata": {},
   "outputs": [],
   "source": [
    "vendor = vendor[['id', 'latitude', 'longitude', 'vendor_category_en', 'delivery_charge', 'serving_distance', 'is_open', 'prepration_time', 'discount_percentage', 'status', 'verified', 'rank', 'vendor_rating', 'vendor_tag']]\n",
    "\n",
    "vendor = vendor.rename({'id':'VENDOR'}, axis=1)\n",
    "\n",
    "vendor['vendor_category_en'] = vendor['vendor_category_en'].astype('category')\n",
    "vendor['is_open'] = vendor['is_open'].astype(int)\n",
    "vendor['is_open'] = vendor['is_open'].astype('category')\n",
    "vendor['VENDOR'] = vendor['VENDOR'].astype('category')\n",
    "\n",
    "rank_cat_type = CategoricalDtype(categories=[1, 11], ordered=True)\n",
    "vendor['status'] = vendor['status'].astype(cat_type)\n",
    "vendor['verified'] = vendor['verified'].astype(cat_type)\n",
    "vendor['rank'] = vendor['rank'].astype(rank_cat_type)\n",
    "\n",
    "vendor['vendor_tag'] = vendor['vendor_tag'].fillna('[0]')\n",
    "vendor['vendor_tag'] = vendor['vendor_tag'].apply(literal_eval)"
   ]
  },
  {
   "cell_type": "code",
   "execution_count": null,
   "metadata": {},
   "outputs": [],
   "source": [
    "order = order[['akeed_order_id', 'customer_id', 'item_count', 'grand_total', 'payment_mode', 'vendor_discount_amount', 'promo_code_discount_percentage', 'is_favorite', 'is_rated', 'vendor_rating', 'driver_rating', 'deliverydistance', 'preparationtime', 'vendor_id', 'LOCATION_NUMBER', 'CID X LOC_NUM X VENDOR']]\n",
    "order = order.drop_duplicates(['customer_id', 'item_count', 'grand_total', 'payment_mode', 'vendor_discount_amount', 'promo_code_discount_percentage', 'is_favorite', 'is_rated', 'vendor_rating', 'driver_rating', 'deliverydistance', 'preparationtime', 'vendor_id', 'LOCATION_NUMBER', 'CID X LOC_NUM X VENDOR'])\n",
    "\n",
    "order = order.rename({'customer_id':'CID', 'vendor_id':'VENDOR', 'LOCATION_NUMBER':'LOC_NUM'}, axis=1)\n",
    "\n",
    "order['payment_mode'] = order['payment_mode'].astype('category')\n",
    "order['is_favorite'] = order['is_favorite'].astype('category')\n",
    "order['is_rated'] = order['is_rated'].astype('category')\n",
    "order['VENDOR'] = order['VENDOR'].astype('category')\n",
    "order['LOC_NUM'] = order['LOC_NUM'].astype('category')"
   ]
  },
  {
   "cell_type": "code",
   "execution_count": null,
   "metadata": {},
   "outputs": [],
   "source": []
  },
  {
   "cell_type": "code",
   "execution_count": null,
   "metadata": {},
   "outputs": [],
   "source": []
  },
  {
   "cell_type": "code",
   "execution_count": null,
   "metadata": {},
   "outputs": [],
   "source": [
    "train_features = train\n",
    "\n",
    "\n",
    "def percent_missing(df):\n",
    "    data = pd.DataFrame(df)\n",
    "    df__cols = list(pd.DataFrame(data))\n",
    "    dict_x = {}\n",
    "    for i in range(0, len(df_cols)):\n",
    "        dict_x.update ({df_cols[i]: round(data[df_cols[i]].isnull().mean()*100, 2)})\n",
    "    return  dict_x\n",
    "df_cols = train.columns\n",
    "\n",
    "missing = percent_missing(train_features)\n",
    "df_miss = sorted(missing.items(), key=lambda x: x[1], reverse=True)\n",
    "\n",
    "print('percent of missing data')\n",
    "df_miss[0:6]"
   ]
  },
  {
   "cell_type": "code",
   "execution_count": null,
   "metadata": {},
   "outputs": [],
   "source": [
    "def handl_train_miss(tra):\n",
    "    tra['location_type'] = tra['location_type'].fillna('Home')\n",
    "    return tra\n",
    "\n",
    "train = handl_train_miss(train)"
   ]
  },
  {
   "cell_type": "code",
   "execution_count": null,
   "metadata": {},
   "outputs": [],
   "source": [
    "missing = percent_missing(train)\n",
    "df_miss = sorted(missing.items(), key=lambda x: x[1], reverse=True)\n",
    "print('percent of missing data')\n",
    "df_miss[0:6]"
   ]
  },
  {
   "cell_type": "code",
   "execution_count": null,
   "metadata": {},
   "outputs": [],
   "source": [
    "test_features = test\n",
    "\n",
    "\n",
    "def percent_missing(df):\n",
    "    data = pd.DataFrame(df)\n",
    "    df__cols = list(pd.DataFrame(data))\n",
    "    dict_x = {}\n",
    "    for i in range(0, len(df_cols)):\n",
    "        dict_x.update ({df_cols[i]: round(data[df_cols[i]].isnull().mean()*100, 2)})\n",
    "    return  dict_x\n",
    "df_cols = test.columns\n",
    "\n",
    "missing = percent_missing(test_features)\n",
    "df_miss = sorted(missing.items(), key=lambda x: x[1], reverse=True)\n",
    "\n",
    "print('percent of missing data')\n",
    "df_miss[0:6]"
   ]
  },
  {
   "cell_type": "code",
   "execution_count": null,
   "metadata": {},
   "outputs": [],
   "source": [
    "def handl_test_miss(tes):\n",
    "    tes['location_type'] = tes['location_type'].fillna('Home')\n",
    "    return tes\n",
    "\n",
    "test = handl_test_miss(test)"
   ]
  },
  {
   "cell_type": "code",
   "execution_count": null,
   "metadata": {},
   "outputs": [],
   "source": [
    "missing = percent_missing(test)\n",
    "df_miss = sorted(missing.items(), key=lambda x: x[1], reverse=True)\n",
    "print('percent of missing data')\n",
    "df_miss[0:6]"
   ]
  },
  {
   "cell_type": "code",
   "execution_count": null,
   "metadata": {},
   "outputs": [],
   "source": [
    "vendor_features = vendor\n",
    "\n",
    "\n",
    "def percent_missing(df):\n",
    "    data = pd.DataFrame(df)\n",
    "    df__cols = list(pd.DataFrame(data))\n",
    "    dict_x = {}\n",
    "    for i in range(0, len(df_cols)):\n",
    "        dict_x.update ({df_cols[i]: round(data[df_cols[i]].isnull().mean()*100, 2)})\n",
    "    return  dict_x\n",
    "df_cols = vendor.columns\n",
    "\n",
    "missing = percent_missing(vendor_features)\n",
    "df_miss = sorted(missing.items(), key=lambda x: x[1], reverse=True)\n",
    "\n",
    "print('percent of missing data')\n",
    "df_miss[0:16]"
   ]
  },
  {
   "cell_type": "code",
   "execution_count": null,
   "metadata": {},
   "outputs": [],
   "source": []
  },
  {
   "cell_type": "code",
   "execution_count": null,
   "metadata": {},
   "outputs": [],
   "source": []
  },
  {
   "cell_type": "code",
   "execution_count": null,
   "metadata": {},
   "outputs": [],
   "source": [
    "vendor.dtypes"
   ]
  },
  {
   "cell_type": "code",
   "execution_count": null,
   "metadata": {},
   "outputs": [],
   "source": [
    "test.head()"
   ]
  },
  {
   "cell_type": "code",
   "execution_count": null,
   "metadata": {},
   "outputs": [],
   "source": [
    "train.head()"
   ]
  },
  {
   "cell_type": "code",
   "execution_count": null,
   "metadata": {},
   "outputs": [],
   "source": [
    "vendor.head()"
   ]
  },
  {
   "cell_type": "code",
   "execution_count": null,
   "metadata": {},
   "outputs": [],
   "source": []
  }
 ],
 "metadata": {
  "kernelspec": {
   "display_name": "Python 3",
   "language": "python",
   "name": "python3"
  },
  "language_info": {
   "codemirror_mode": {
    "name": "ipython",
    "version": 3
   },
   "file_extension": ".py",
   "mimetype": "text/x-python",
   "name": "python",
   "nbconvert_exporter": "python",
   "pygments_lexer": "ipython3",
   "version": "3.7.3"
  }
 },
 "nbformat": 4,
 "nbformat_minor": 2
}
